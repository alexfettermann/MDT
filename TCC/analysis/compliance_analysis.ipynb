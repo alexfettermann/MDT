{
 "cells": [
  {
   "cell_type": "code",
   "execution_count": 1,
   "metadata": {},
   "outputs": [
    {
     "name": "stderr",
     "output_type": "stream",
     "text": [
      "USER_AGENT environment variable not set, consider setting it to identify your requests.\n"
     ]
    }
   ],
   "source": [
    "from document_database import DocumentDatabase\n",
    "import pandas as pd"
   ]
  },
  {
   "cell_type": "code",
   "execution_count": 2,
   "metadata": {},
   "outputs": [
    {
     "data": {
      "text/html": [
       "<div>\n",
       "<style scoped>\n",
       "    .dataframe tbody tr th:only-of-type {\n",
       "        vertical-align: middle;\n",
       "    }\n",
       "\n",
       "    .dataframe tbody tr th {\n",
       "        vertical-align: top;\n",
       "    }\n",
       "\n",
       "    .dataframe thead th {\n",
       "        text-align: right;\n",
       "    }\n",
       "</style>\n",
       "<table border=\"1\" class=\"dataframe\">\n",
       "  <thead>\n",
       "    <tr style=\"text-align: right;\">\n",
       "      <th></th>\n",
       "      <th>questions</th>\n",
       "      <th>answers</th>\n",
       "      <th>source</th>\n",
       "    </tr>\n",
       "  </thead>\n",
       "  <tbody>\n",
       "    <tr>\n",
       "      <th>0</th>\n",
       "      <td>We have a broken redirection to the t&amp;c's for ...</td>\n",
       "      <td>Yes, in case the Regulator becomes aware of th...</td>\n",
       "      <td>Base de Dados para Puc-Rio\\SRIJ Regulação e No...</td>\n",
       "    </tr>\n",
       "    <tr>\n",
       "      <th>1</th>\n",
       "      <td>Can you confirm if it is SEPA or EU or both th...</td>\n",
       "      <td>We can accept all SEPA countries, EU or non-EU...</td>\n",
       "      <td>Base de Dados para Puc-Rio\\SRIJ Regulação e No...</td>\n",
       "    </tr>\n",
       "    <tr>\n",
       "      <th>2</th>\n",
       "      <td>Question remains regarding the possibility of ...</td>\n",
       "      <td>The “chave móvel” has been considered in diffe...</td>\n",
       "      <td>Base de Dados para Puc-Rio\\SRIJ Regulação e No...</td>\n",
       "    </tr>\n",
       "    <tr>\n",
       "      <th>3</th>\n",
       "      <td>We do not apply fees. Would it be possible to ...</td>\n",
       "      <td>Although the regulation does not expressly aut...</td>\n",
       "      <td>Base de Dados para Puc-Rio\\SRIJ Regulação e No...</td>\n",
       "    </tr>\n",
       "  </tbody>\n",
       "</table>\n",
       "</div>"
      ],
      "text/plain": [
       "                                           questions  \\\n",
       "0  We have a broken redirection to the t&c's for ...   \n",
       "1  Can you confirm if it is SEPA or EU or both th...   \n",
       "2  Question remains regarding the possibility of ...   \n",
       "3  We do not apply fees. Would it be possible to ...   \n",
       "\n",
       "                                             answers  \\\n",
       "0  Yes, in case the Regulator becomes aware of th...   \n",
       "1  We can accept all SEPA countries, EU or non-EU...   \n",
       "2  The “chave móvel” has been considered in diffe...   \n",
       "3  Although the regulation does not expressly aut...   \n",
       "\n",
       "                                              source  \n",
       "0  Base de Dados para Puc-Rio\\SRIJ Regulação e No...  \n",
       "1  Base de Dados para Puc-Rio\\SRIJ Regulação e No...  \n",
       "2  Base de Dados para Puc-Rio\\SRIJ Regulação e No...  \n",
       "3  Base de Dados para Puc-Rio\\SRIJ Regulação e No...  "
      ]
     },
     "execution_count": 2,
     "metadata": {},
     "output_type": "execute_result"
    }
   ],
   "source": [
    "# Import questions dataset\n",
    "dataset = pd.read_csv('formatted_questions.csv')\n",
    "dataset"
   ]
  },
  {
   "cell_type": "code",
   "execution_count": 3,
   "metadata": {},
   "outputs": [
    {
     "name": "stderr",
     "output_type": "stream",
     "text": [
      "c:\\Users\\felip\\OneDrive\\Área de Trabalho\\ECOA_RAG\\analysis\\document_database.py:27: LangChainDeprecationWarning: The class `Chroma` was deprecated in LangChain 0.2.9 and will be removed in 1.0. An updated version of the class exists in the :class:`~langchain-chroma package and should be used instead. To use it run `pip install -U :class:`~langchain-chroma` and import as `from :class:`~langchain_chroma import Chroma``.\n",
      "  self.vectorstore = Chroma(\n",
      "⚠️ It looks like you upgraded from a version below 0.6 and could benefit from vacuuming your database. Run chromadb utils vacuum --help for more information.\n"
     ]
    }
   ],
   "source": [
    "# load the database\n",
    "db = DocumentDatabase()"
   ]
  },
  {
   "cell_type": "code",
   "execution_count": 5,
   "metadata": {},
   "outputs": [
    {
     "name": "stdout",
     "output_type": "stream",
     "text": [
      "Question: We have a broken redirection to the t&c's for the level up campaign but only on the onboarding page and we are almost at the end of the release train. Our first opportunity to fix this would be in next release in 2 week. It's only for iOS. Would we get in trouble with the compliance authorities if the fix will be in next possible release?\n",
      "Answer: I don't know.\n",
      "Question: Can you confirm if it is SEPA or EU or both that we should authorize ? Outside of SEPA but in EU we have the following countries : Bulgaria, Croatia, Czech Republic, Denmark, Hungary, Poland, Romania, Sweden, United Kingdom. And the following countries are SEPA but not in EU: Iceland, Liechtenstein, Norway, Monaco, Swiss, San Marino. Can you confirm if we should accept those countries?\n",
      "Answer: You should authorize both SEPA and EU countries. This includes countries like Bulgaria, Croatia, Czech Republic, Denmark, Hungary, Poland, Romania, Sweden, and the United Kingdom within the EU, and countries like Iceland, Liechtenstein, Norway, Monaco, Switzerland, and San Marino within SEPA but not in the EU. You should accept all these countries.\n",
      "Question: Question remains regarding the possibility of using the “chave móvel” option, in fact, entities like Jogos Santa Casa use this option, at registration at least, (process attached).Could this be an option to replace the identity card collection when reaching 2k€ (art 25º/2 a) and 4ii) Law 83/2017) ? If so, do you know the data list accessible through this method?For my part, I think this is too restrictive an option, as most of our customers probably won't have this “cháve móvel”, but we'd like to hear your opinion and find out if it's feasible.\n",
      "Answer: The \"chave móvel\" option can be used for player registration if they do not have a citizen card. The verification of player identity can be done through the \"chave móvel\" digital. The entities must ensure the use of the authentication mechanism provided by autenticacao.gov.pt.\n",
      "Question: We do not apply fees. Would it be possible to apply fees ? Under what conditions ?\n",
      "Answer: It is possible to apply fees for the use of payment instruments under certain conditions, such as ensuring that charges do not exceed the direct costs borne by the payee. Member States may prohibit or limit the right of the payee to request charges in order to encourage competition and promote the use of efficient payment instruments. Charges should be agreed between the payment service user and provider, and be appropriate and in line with the provider's actual costs.\n"
     ]
    }
   ],
   "source": [
    "# Ask questions to database\n",
    "for i in range(len(dataset)):\n",
    "    question = dataset['questions'][i]\n",
    "    answer = db.ask_rag(question)\n",
    "    print('Question:', question)\n",
    "    print('Answer:', answer['rag']['answer'])"
   ]
  },
  {
   "cell_type": "markdown",
   "metadata": {},
   "source": []
  }
 ],
 "metadata": {
  "kernelspec": {
   "display_name": "rag-analysis",
   "language": "python",
   "name": "python3"
  },
  "language_info": {
   "codemirror_mode": {
    "name": "ipython",
    "version": 3
   },
   "file_extension": ".py",
   "mimetype": "text/x-python",
   "name": "python",
   "nbconvert_exporter": "python",
   "pygments_lexer": "ipython3",
   "version": "3.13.1"
  }
 },
 "nbformat": 4,
 "nbformat_minor": 2
}
